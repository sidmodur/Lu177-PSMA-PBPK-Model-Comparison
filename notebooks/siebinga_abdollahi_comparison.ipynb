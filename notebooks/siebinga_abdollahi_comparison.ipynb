{
  "cells": [
    {
      "cell_type": "markdown",
      "metadata": {
        "id": "jS1VOBLTsxwj"
      },
      "source": [
        "# Setup"
      ]
    },
    {
      "cell_type": "markdown",
      "metadata": {
        "id": "fJtupVljs9zp"
      },
      "source": [
        "## Configure Models"
      ]
    },
    {
      "cell_type": "markdown",
      "metadata": {
        "id": "ByVtTxa4tDIC"
      },
      "source": [
        "### Siebinga et. al"
      ]
    },
    {
      "cell_type": "code",
      "execution_count": null,
      "metadata": {
        "colab": {
          "base_uri": "https://localhost:8080/"
        },
        "id": "FfBBzyBqnUwC",
        "outputId": "5855df38-b91f-44c1-efa8-47a44303f935"
      },
      "outputs": [
        {
          "name": "stdout",
          "output_type": "stream",
          "text": [
            "Downloading...\n",
            "From (original): https://drive.google.com/uc?id=1glr4MCWg6UF0gk9sYTS3sJSQ1DCwaNMe\n",
            "From (redirected): https://drive.google.com/uc?id=1glr4MCWg6UF0gk9sYTS3sJSQ1DCwaNMe&confirm=t&uuid=bc8b5534-c53f-4ff3-ab0f-da6264a28781\n",
            "To: /content/pbpk_siebinga.py\n",
            "\r  0% 0.00/6.10k [00:00<?, ?B/s]\r100% 6.10k/6.10k [00:00<00:00, 17.3MB/s]\n",
            "Successfully imported pbpk_siebinga\n"
          ]
        }
      ],
      "source": [
        "\n"
      ]
    },
    {
      "cell_type": "markdown",
      "metadata": {
        "id": "VDINlVzUtHlf"
      },
      "source": [
        "### Abdollahi et. al"
      ]
    },
    {
      "cell_type": "code",
      "execution_count": 1,
      "metadata": {
        "colab": {
          "base_uri": "https://localhost:8080/"
        },
        "id": "FJ73i9EttMQx",
        "outputId": "31f94a08-6cf0-47f4-cedc-257dcc91d231"
      },
      "outputs": [
        {
          "name": "stdout",
          "output_type": "stream",
          "text": [
            "\u001b[31mERROR: Could not find a version that satisfies the requirement libsbmlsim (from versions: none)\u001b[0m\u001b[31m\n",
            "\u001b[0m\u001b[31mERROR: No matching distribution found for libsbmlsim\u001b[0m\u001b[31m\n",
            "\u001b[0m"
          ]
        }
      ],
      "source": [
        "\n"
      ]
    }
  ],
  "metadata": {
    "colab": {
      "provenance": []
    },
    "kernelspec": {
      "display_name": "Python 3",
      "name": "python3"
    },
    "language_info": {
      "name": "python"
    }
  },
  "nbformat": 4,
  "nbformat_minor": 0
}
